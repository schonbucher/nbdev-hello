{
 "cells": [
  {
   "cell_type": "markdown",
   "metadata": {},
   "source": [
    "# nbdev-hello\n",
    "\n",
    "> mydescription - here we need to put a longer description of what the package does. \n",
    "I have no idea what I should be writing here, though."
   ]
  },
  {
   "cell_type": "markdown",
   "metadata": {},
   "source": [
    "This file will become your README and also the index of your documentation."
   ]
  },
  {
   "cell_type": "markdown",
   "metadata": {},
   "source": [
    "## Install"
   ]
  },
  {
   "cell_type": "markdown",
   "metadata": {},
   "source": [
    "```sh\n",
    "pip install nbdev_hello\n",
    "```"
   ]
  },
  {
   "cell_type": "markdown",
   "metadata": {},
   "source": [
    "## How to use"
   ]
  },
  {
   "cell_type": "markdown",
   "metadata": {},
   "source": [
    "Fill me in please! Don't forget code examples:"
   ]
  },
  {
   "cell_type": "code",
   "execution_count": null,
   "metadata": {},
   "outputs": [
    {
     "data": {
      "text/plain": [
       "2"
      ]
     },
     "execution_count": null,
     "metadata": {},
     "output_type": "execute_result"
    }
   ],
   "source": [
    "1+1"
   ]
  },
  {
   "cell_type": "code",
   "execution_count": null,
   "metadata": {},
   "outputs": [],
   "source": [
    "from nbdev_hello.nbdev_hello import *"
   ]
  },
  {
   "cell_type": "code",
   "execution_count": null,
   "metadata": {},
   "outputs": [
    {
     "data": {
      "text/plain": [
       "100"
      ]
     },
     "execution_count": null,
     "metadata": {},
     "output_type": "execute_result"
    }
   ],
   "source": [
    "psfoo(10)"
   ]
  },
  {
   "cell_type": "code",
   "execution_count": null,
   "metadata": {},
   "outputs": [
    {
     "data": {
      "text/plain": [
       "'Hello Philipp!'"
      ]
     },
     "execution_count": null,
     "metadata": {},
     "output_type": "execute_result"
    }
   ],
   "source": [
    "say_hello(\"Philipp\")"
   ]
  },
  {
   "cell_type": "code",
   "execution_count": null,
   "metadata": {},
   "outputs": [],
   "source": [
    "# from ipyleaflet import Map, Marker, basemaps, basemap_to_tiles\n",
    "# m = Map(\n",
    "#   basemap=basemap_to_tiles(\n",
    "#     basemaps.NASAGIBS.ModisTerraTrueColorCR, \"2017-04-08\"\n",
    "#   ),\n",
    "#   center=(52.204793, 360.121558),\n",
    "#   zoom=4\n",
    "# )\n",
    "# m.add_layer(Marker(location=(52.204793, 360.121558)))"
   ]
  },
  {
   "cell_type": "code",
   "execution_count": null,
   "metadata": {},
   "outputs": [],
   "source": [
    "import plotly.express as px\n",
    "import plotly.io as pio\n",
    "df = px.data.iris()\n",
    "fig = px.scatter(df, x=\"sepal_width\", y=\"sepal_length\", \n",
    "                 color=\"species\", \n",
    "                 marginal_y=\"violin\", marginal_x=\"box\", \n",
    "                 trendline=\"ols\", template=\"simple_white\")\n",
    "# fig.show()"
   ]
  },
  {
   "cell_type": "markdown",
   "metadata": {},
   "source": [
    "This is an integral that I know can be solved $$ \\int_0^{\\infty} \\sin(x) \\frac{1}{x} dx = 0 $$ but I am pretty sure the answer is not zero.\n",
    "\n",
    "You probably want to substitute variables: $y = \\ln x$ and $dy/dx = 1/x$, hence\n",
    "$$ \\int_0^{\\infty} \\sin(x) \\frac{1}{x} dx =\n",
    "\\int_{-\\infty}^{\\infty} \\sin(e^y) dy \n",
    "$$\n",
    "Hmm, not sure that helped a lot... We now have the $e^y$ term in the $\\sin()$."
   ]
  },
  {
   "cell_type": "code",
   "execution_count": null,
   "metadata": {},
   "outputs": [
    {
     "data": {
      "text/plain": [
       "2"
      ]
     },
     "execution_count": null,
     "metadata": {},
     "output_type": "execute_result"
    }
   ],
   "source": [
    "1+1"
   ]
  },
  {
   "cell_type": "raw",
   "metadata": {},
   "source": [
    "```{mermaid}\n",
    "flowchart LR\n",
    "  A[Hard edge] --> B(Round edge)\n",
    "  B --> C{Decision}\n",
    "  C --> D[Result one]\n",
    "  C --> E[Result two]\n",
    "```"
   ]
  },
  {
   "cell_type": "code",
   "execution_count": null,
   "metadata": {},
   "outputs": [],
   "source": [
    "#| label: fig-gapminder\n",
    "#| fig-cap: Life Expectancy and GDP\n",
    "#| fig-subcap:\n",
    "#|   - \"Gapminder: 1957\"\n",
    "#|   - \"Gapminder: 2007\"\n",
    "#| layout-ncol: 2\n",
    "#| column: page\n",
    "\n",
    "# import plotly.express as px\n",
    "# import plotly.io as pio\n",
    "# gapminder = px.data.gapminder()\n",
    "# def gapminder_plot(year):\n",
    "#     gapminderYear = gapminder.query(\"year == \" + \n",
    "#                                     str(year))\n",
    "#     fig = px.scatter(gapminderYear, \n",
    "#                      x=\"gdpPercap\", y=\"lifeExp\",\n",
    "#                      size=\"pop\", size_max=60,\n",
    "#                      hover_name=\"country\")\n",
    "#     fig.show()\n",
    "    \n",
    "# gapminder_plot(1957)\n",
    "# gapminder_plot(2007)"
   ]
  }
 ],
 "metadata": {
  "kernelspec": {
   "display_name": "Python 3 (ipykernel)",
   "language": "python",
   "name": "python3"
  }
 },
 "nbformat": 4,
 "nbformat_minor": 4
}
